{
 "cells": [
  {
   "cell_type": "markdown",
   "source": [
    "# Uber Driver Data Analysis\n",
    "\n",
    "(New version)\n",
    "\n",
    "Works with SAR and Portal data.\n",
    "\n",
    "Note that this notebook is not final, and more documentation is being added."
   ],
   "metadata": {
    "collapsed": false
   }
  },
  {
   "cell_type": "markdown",
   "source": [
    "#### [Optional] Installing the required libraries with pip"
   ],
   "metadata": {
    "collapsed": false
   }
  },
  {
   "cell_type": "code",
   "execution_count": 1,
   "outputs": [
    {
     "name": "stdout",
     "output_type": "stream",
     "text": [
      "Requirement already satisfied: numpy in /home/lstreit/anaconda3/envs/hestia/lib/python3.10/site-packages (1.23.3)\r\n",
      "Requirement already satisfied: pandas in /home/lstreit/anaconda3/envs/hestia/lib/python3.10/site-packages (1.4.4)\r\n",
      "Requirement already satisfied: portion in /home/lstreit/anaconda3/envs/hestia/lib/python3.10/site-packages (2.3.0)\r\n",
      "Requirement already satisfied: python-dateutil>=2.8.1 in /home/lstreit/anaconda3/envs/hestia/lib/python3.10/site-packages (from pandas) (2.8.2)\r\n",
      "Requirement already satisfied: pytz>=2020.1 in /home/lstreit/anaconda3/envs/hestia/lib/python3.10/site-packages (from pandas) (2022.1)\r\n",
      "Requirement already satisfied: sortedcontainers~=2.2 in /home/lstreit/anaconda3/envs/hestia/lib/python3.10/site-packages (from portion) (2.4.0)\r\n",
      "Requirement already satisfied: six>=1.5 in /home/lstreit/anaconda3/envs/hestia/lib/python3.10/site-packages (from python-dateutil>=2.8.1->pandas) (1.16.0)\r\n"
     ]
    }
   ],
   "source": [
    "! pip install numpy pandas portion"
   ],
   "metadata": {
    "collapsed": false
   }
  },
  {
   "cell_type": "code",
   "execution_count": 2,
   "outputs": [],
   "source": [
    "import datetime\n",
    "import glob\n",
    "import os\n",
    "from pathlib import Path\n",
    "from typing import Callable, Optional, Tuple\n",
    "\n",
    "import numpy as np\n",
    "import pandas as pd\n",
    "import portion as P"
   ],
   "metadata": {
    "collapsed": false
   }
  },
  {
   "cell_type": "code",
   "execution_count": 3,
   "outputs": [],
   "source": [
    "class Table(pd.DataFrame):\n",
    "    \"\"\"Some Python magic to be able to type hint things like\n",
    "    df: Table['begin': datetime, 'end': datetime]\"\"\"\n",
    "\n",
    "    def __class_getitem__(cls, _):\n",
    "        return list[str]"
   ],
   "metadata": {
    "collapsed": false
   }
  },
  {
   "cell_type": "code",
   "execution_count": 4,
   "outputs": [],
   "source": [
    "Timestamp = datetime.datetime"
   ],
   "metadata": {
    "collapsed": false
   }
  },
  {
   "cell_type": "code",
   "execution_count": 5,
   "outputs": [],
   "source": [
    "PeriodTable = Table['begin': Timestamp, 'end': Timestamp]"
   ],
   "metadata": {
    "collapsed": false
   }
  },
  {
   "cell_type": "code",
   "execution_count": 6,
   "outputs": [],
   "source": [
    "data_folder = Path(os.getcwd()) / 'data'"
   ],
   "metadata": {
    "collapsed": false
   }
  },
  {
   "cell_type": "code",
   "execution_count": 7,
   "outputs": [],
   "source": [
    "def find_file(pattern: str, folder: Path) -> Path:\n",
    "    \"\"\"\n",
    "    Looks for a file matching the given pattern inside the given folder\n",
    "    :param pattern: a glob file pattern\n",
    "    :param folder: a path leading to a folder where the pattern should be applied\n",
    "    :return: a path to the first file matching the pattern, or a value error if none.\n",
    "    \"\"\"\n",
    "    matches = glob.glob(pattern, root_dir=folder)\n",
    "    if len(matches) == 0:\n",
    "        raise ValueError(f'Could not find file {pattern} in {folder}')\n",
    "    elif len(matches) > 1:\n",
    "        print(f'Found many matches for {pattern} in {folder}. Using the first.')\n",
    "    return folder / matches[0]"
   ],
   "metadata": {
    "collapsed": false
   }
  },
  {
   "cell_type": "code",
   "execution_count": 8,
   "outputs": [],
   "source": [
    "def find_table(pattern: str, folder: Path, usecols: Optional[list[str]] = None) -> Table:\n",
    "    \"\"\"\n",
    "    Looks for a csv-like file whose name matches the pattern and is located inside folder, using only the specified columns.\n",
    "    If found, reads it and assigns the file name as a column.\n",
    "    :param pattern: a glob file pattern\n",
    "    :param folder: a path leading to a folder where the pattern should be applied\n",
    "    :param usecols: an optional list of columns in the\n",
    "    :return: a Table (a.k.a. pandas DataFrame) having the specified columns and the file name as a column\n",
    "    \"\"\"\n",
    "    file = find_file(pattern, folder)\n",
    "    table = pd.read_csv(file, usecols=usecols)\n",
    "    if usecols is not None:\n",
    "        table = table[usecols]\n",
    "    return table.assign(file=file.name)"
   ],
   "metadata": {
    "collapsed": false
   }
  },
  {
   "cell_type": "code",
   "execution_count": 9,
   "outputs": [],
   "source": [
    "def find_date_range(pattern: str, folder: Path, date_cols: list[str]) -> (Timestamp, Timestamp):\n",
    "    \"\"\"\n",
    "\n",
    "    :param pattern: a glob file pattern\n",
    "    :param folder: a path leading to a folder where the pattern should be applied\n",
    "    :param date_cols: a list of column names that are dates\n",
    "    :return: the minimum and maxixmum observed dates\n",
    "    Usage:\n",
    "    find_date_range('*Driver Trip Status.csv', data_folder / 'Brice' / 'raw' / 'SAR',\n",
    "                    ['begin_timestamp_local', 'end_timestamp_local'])\n",
    "    \"\"\"\n",
    "    df = find_table(pattern, folder, usecols=date_cols)\n",
    "    for c in date_cols:\n",
    "        df[c] = pd.to_datetime(df[c])\n",
    "    return df[date_cols].min().min(), df[date_cols].max().max()"
   ],
   "metadata": {
    "collapsed": false
   }
  },
  {
   "cell_type": "code",
   "execution_count": 10,
   "outputs": [],
   "source": [
    "def df_to_interval(df: PeriodTable) -> P.interval:\n",
    "    \"\"\"Converts a DataFrame with columns 'begin' and 'end' into a Portion interval, merging entries that overlap.\"\"\"\n",
    "    return P.Interval(*[P.closed(row['begin'], row['end']) for row in df.to_dict('records')])\n",
    "\n",
    "\n",
    "def interval_to_df(interval: P.interval) -> PeriodTable:\n",
    "    \"\"\"Converts a Portion interval into a dataframe with columns 'begin' and 'end'.\"\"\"\n",
    "    return pd.DataFrame([{'begin': begin, 'end': end} for _, begin, end, _ in P.to_data(interval)])"
   ],
   "metadata": {
    "collapsed": false
   }
  },
  {
   "cell_type": "code",
   "execution_count": 11,
   "outputs": [],
   "source": [
    "def time_tuples_to_periods(\n",
    "        table: Table['t1': Timestamp, 't2': Timestamp, 't3': Timestamp],\n",
    "        columns: list[str],\n",
    "        extra_info: list[Callable[[pd.Series], dict]]\n",
    ") -> pd.DataFrame:\n",
    "    \"\"\"\n",
    "    Takes a dataframe where each row has N timestamps corresponding to instants of status changes,\n",
    "    and converts each row into N-1 rows of periods in the corresponding status.\n",
    "\n",
    "    :param: table: a table having a number N > 1 of time-columns and L of entries.\n",
    "    :param: columns: a list of n time-column names present in {table}.\n",
    "    :param: extra_info: a list of functions taking a row of df and outputting a dictionary of additional information. Cannot have keys 'begin' and 'end'.\n",
    "    :return: periods: a table having L * (N-1) entries, each with a 'begin' and 'end' timestamp and associated information as specified by additional_info.\n",
    "    Usage:\n",
    "    df = pd.DataFrame([{'request_ts': '3:47 PM', 'begintrip_ts': '4:00 PM', 'dropoff_ts': '4:13 PM'}])\n",
    "    columns = ['request_ts', 'begintrip_ts', 'dropoff_ts']\n",
    "    extra_info = [lambda r: {'status': 'P2'}, lambda r: {'status': 'P3'}]\n",
    "    time_tuples_to_periods(df, columns, extra_info)\n",
    "    > begin    end      status\n",
    "    > 3:47 PM  4:00 PM  P2\n",
    "    > 4:00 PM  4:13 PM  P3\n",
    "    \"\"\"\n",
    "    assert len(columns) == len(\n",
    "        extra_info) + 1, f'The length of additional information should correspond to the number of generated periods (N-1).'\n",
    "    periods = pd.DataFrame(table.apply(\n",
    "        lambda r: [{'begin': r[b], 'end': r[e], **d(r)} for b, e, d in zip(columns, columns[1:], extra_info)],\n",
    "        axis=1\n",
    "    ).explode().to_list())\n",
    "    for col in ['begin', 'end']:\n",
    "        periods[col] = pd.to_datetime(periods[col])\n",
    "    return periods"
   ],
   "metadata": {
    "collapsed": false
   }
  },
  {
   "cell_type": "code",
   "execution_count": 12,
   "outputs": [],
   "source": [
    "def make_status_intervals(df: PeriodTable) -> dict[str, P.interval]:\n",
    "    return {s: df_to_interval(df[df.status == s]) for s in df.status.unique()}"
   ],
   "metadata": {
    "collapsed": false
   }
  },
  {
   "cell_type": "code",
   "execution_count": 13,
   "outputs": [],
   "source": [
    "def interval_merge_logic(lt: dict[str, P.interval], oo: dict[str, P.interval]) -> dict[str, P.interval]:\n",
    "    P3 = lt['P3'] | oo['P3']\n",
    "    P2 = (lt['P2'] | oo['P2']) - P3\n",
    "    P1 = oo['P1'] - (P2 | P3)\n",
    "    return {'P1': P1, 'P2': P2, 'P3': P3}"
   ],
   "metadata": {
    "collapsed": false
   }
  },
  {
   "cell_type": "code",
   "execution_count": 14,
   "outputs": [],
   "source": [
    "def main_interval_logic(lt: dict[str, P.interval], oo: dict[str, P.interval], P0_has_priority=False) -> Table:\n",
    "    \"\"\"Consider the following ordering of priorities: P3 > P2 > P1. P0_has_priority determines if P0 is on the left or right of inequalities.\"\"\"\n",
    "    if P0_has_priority:\n",
    "        for d in [lt, oo]:\n",
    "            for k in d.keys():\n",
    "                if k != 'P0':\n",
    "                    d[k] = d[k] - oo['P0']\n",
    "    lt['P2'] = lt['P2'] - lt['P3']\n",
    "    oo['P2'] = oo['P2'] - oo['P3']\n",
    "    oo['P1'] = oo['P1'] - (oo['P2'] | oo['P3'])\n",
    "    intervals = interval_merge_logic(lt, oo)\n",
    "    return pd.concat([interval_to_df(i).assign(status=f'{s} consistent') for s, i in intervals.items()])"
   ],
   "metadata": {
    "collapsed": false
   }
  },
  {
   "cell_type": "code",
   "execution_count": 15,
   "outputs": [],
   "source": [
    "def merge_overlapping_intervals(table: PeriodTable, agg_dict: Optional[dict] = None) -> PeriodTable:\n",
    "    \"\"\"\n",
    "    Groups the given table by status, then sorts all intervals by begin datetime and merges overlapping entries \"efficiently\".\n",
    "    :param table: the table whose intervals should be merged\n",
    "    :param agg_dict: maps each row to the operation that should be applied to combine interval attributes when merging them\n",
    "    :return: a table with merged intervals per status\n",
    "    \"\"\"\n",
    "    agg_dict = agg_dict or {c: 'sum' for c in table.columns if c not in ['begin', 'end', 'status']}\n",
    "\n",
    "    def handle_groups(table: PeriodTable) -> PeriodTable:\n",
    "        intervals = table[['begin', 'end']].sort_values(['begin', 'end'])\n",
    "        group = 0\n",
    "        group_end = intervals.end.iloc[0]\n",
    "\n",
    "        def find_group(row):\n",
    "            nonlocal group, group_end\n",
    "            if row.begin <= group_end:\n",
    "                group_end = max(row.end, group_end)\n",
    "            else:\n",
    "                group += 1\n",
    "                group_end = row.end\n",
    "            return group\n",
    "\n",
    "        groups = intervals.apply(find_group, axis=1)\n",
    "        return table.groupby(groups).agg({'begin': 'min', 'end': 'max', **agg_dict}).reset_index(drop=True)\n",
    "\n",
    "    return table.groupby('status').apply(handle_groups).reset_index(level=1, drop=True).reset_index()"
   ],
   "metadata": {
    "collapsed": false
   }
  },
  {
   "cell_type": "code",
   "execution_count": 16,
   "outputs": [],
   "source": [
    "def mile2km(n_miles: float) -> float:\n",
    "    return n_miles * 1.609344"
   ],
   "metadata": {
    "collapsed": false
   }
  },
  {
   "cell_type": "markdown",
   "source": [
    "#### SAR preprocessing logic"
   ],
   "metadata": {
    "collapsed": false
   }
  },
  {
   "cell_type": "code",
   "execution_count": 17,
   "outputs": [],
   "source": [
    "def load_lifetime_trips(folder: Path, pattern: str = '*Driver Lifetime Trips.csv') -> PeriodTable:\n",
    "    table = find_table(pattern, folder,\n",
    "                       ['request_timestamp_local', 'begintrip_timestamp_local', 'dropoff_timestamp_local', 'status',\n",
    "                        'request_to_begin_distance_miles', 'trip_distance_miles', 'original_fare_local'])\n",
    "    table = table[table.status.isin(['completed', 'fare_split'])].drop(columns='status')\n",
    "    table.replace({r'\\N': np.nan}, inplace=True)\n",
    "    for col in ['request_to_begin_distance_miles', 'original_fare_local']:\n",
    "        table[col] = table[col].astype(float)\n",
    "    table = time_tuples_to_periods(table,\n",
    "                                   columns=['request_timestamp_local', 'begintrip_timestamp_local',\n",
    "                                            'dropoff_timestamp_local'],\n",
    "                                   extra_info=[lambda r: {'status': 'P2',\n",
    "                                                          'distance_km': mile2km(r['request_to_begin_distance_miles']),\n",
    "                                                          'file': r['file']},\n",
    "                                               lambda r: {'status': 'P3',\n",
    "                                                          'distance_km': mile2km(r['trip_distance_miles']),\n",
    "                                                          'uber_paid': r['original_fare_local'],\n",
    "                                                          'file': r['file']}])\n",
    "    return table"
   ],
   "metadata": {
    "collapsed": false
   }
  },
  {
   "cell_type": "code",
   "execution_count": 18,
   "outputs": [],
   "source": [
    "def load_on_off(folder: Path, pattern: str = '*Driver Online Offline.csv') -> PeriodTable:\n",
    "    table = find_table(pattern, folder,\n",
    "                       ['begin_timestamp_local', 'end_timestamp_local', 'earner_state',\n",
    "                        'begin_lat', 'begin_lng', 'end_lat', 'end_lng'])\n",
    "    table.rename(columns={'begin_timestamp_local': 'begin', 'end_timestamp_local': 'end',\n",
    "                          'earner_state': 'status'}, inplace=True)\n",
    "    table = table.replace({r'\\N': np.nan, 'ontrip': 'P3', 'enroute': 'P2', 'open': 'P1', 'offline': 'P0'})\n",
    "    for col in ['begin', 'end']:\n",
    "        table[col] = pd.to_datetime(table[col])\n",
    "    return table.dropna()"
   ],
   "metadata": {
    "collapsed": false
   }
  },
  {
   "cell_type": "code",
   "execution_count": 19,
   "outputs": [],
   "source": [
    "def load_dispatches(path: str | Path) -> Table:\n",
    "    # TODO (not finished)\n",
    "    table = pd.read_csv(path, usecols=['start_timestamp_local', 'end_timestamp_local', 'dispatches', 'completed_trips',\n",
    "                                       'accepts', 'rejects', 'expireds', 'driver_cancellations', 'rider_cancellations',\n",
    "                                       'minutes_online', 'minutes_on_trip', 'trip_fares'])\n",
    "    return table"
   ],
   "metadata": {
    "collapsed": false
   }
  },
  {
   "cell_type": "code",
   "execution_count": 20,
   "outputs": [],
   "source": [
    "def load_trip_status(folder: Path, pattern: str = '*Driver Trip Status.csv') -> PeriodTable:\n",
    "    table = find_table(pattern, folder, ['begin_timestamp_local', 'end_timestamp_local', 'status', 'end_reason'])\n",
    "    table.columns = ['begin', 'end', *table.columns[2:]]\n",
    "    for col in ['begin', 'end']:\n",
    "        table[col] = pd.to_datetime(table[col])\n",
    "    return table"
   ],
   "metadata": {
    "collapsed": false
   }
  },
  {
   "cell_type": "code",
   "execution_count": 21,
   "outputs": [],
   "source": [
    "def load_distance_traveled(folder: Path) -> pd.DataFrame:\n",
    "    pass  # TODO"
   ],
   "metadata": {
    "collapsed": false
   }
  },
  {
   "cell_type": "code",
   "execution_count": 22,
   "outputs": [],
   "source": [
    "def load_sar(folder: Path) -> Table:\n",
    "    lifetime_trips = load_lifetime_trips(folder)\n",
    "    on_off = load_on_off(folder)\n",
    "    return pd.concat([lifetime_trips, on_off]).reset_index(drop=True)"
   ],
   "metadata": {
    "collapsed": false
   }
  },
  {
   "cell_type": "markdown",
   "source": [
    "#### Portal preprocessing"
   ],
   "metadata": {
    "collapsed": false
   }
  },
  {
   "cell_type": "code",
   "execution_count": 23,
   "outputs": [],
   "source": [
    "def load_portal(folder: Path):\n",
    "    df = find_table('*driver_lifetime_trips*.csv', folder,\n",
    "                    ['Status', 'Local Request Timestamp', 'Begin Trip Local Timestamp', 'Local Dropoff Timestamp',\n",
    "                     'Trip Distance (miles)', 'Duration (Seconds)', 'Local Original Fare'])\n",
    "    df = df[df['Status'].isin(['completed', 'fare_split'])]\n",
    "    df = time_tuples_to_periods(df, columns=['Local Request Timestamp', 'Begin Trip Local Timestamp',\n",
    "                                             'Local Dropoff Timestamp'],\n",
    "                                extra_info=[lambda r: {'status': 'P2'},\n",
    "                                            lambda r: {'status': 'P3',\n",
    "                                                       'distance_km': mile2km(r['Trip Distance (miles)']),\n",
    "                                                       'uber_paid': r['Local Original Fare']}])\n",
    "    return df"
   ],
   "metadata": {
    "collapsed": false
   }
  },
  {
   "cell_type": "markdown",
   "source": [
    "#### Guillaume-specific logic"
   ],
   "metadata": {
    "collapsed": false
   }
  },
  {
   "cell_type": "code",
   "execution_count": 24,
   "outputs": [],
   "source": [
    "def guillaume_filtering_logic(\n",
    "        daily: Table,\n",
    "        percentage_df_path: Optional[str | Path] = data_folder / 'Guillaume' / 'percentage.csv'\n",
    ") -> Table:\n",
    "    # First, weight P1 times based on the percentage that Guillaume was working for Uber on that month\n",
    "    percentage = pd.read_csv(percentage_df_path)\n",
    "    percentage['Uber'] /= 100\n",
    "    P1 = daily.loc[daily.status.str.contains('P1')].copy()\n",
    "    for i, row in percentage.iterrows():\n",
    "        if row['Uber'] == 0 and P1[(P1.date.dt.year == row.year) & (\n",
    "                P1.date.dt.month == row.month)].duration.sum() > datetime.timedelta(0):\n",
    "            print(\n",
    "                f'bad specification for {row.year}/{row.month}: activity found even though specified percentage was 0')\n",
    "        P1['duration'] = np.where(\n",
    "            (P1.date.dt.year == row.year) & (P1.date.dt.month == row.month),\n",
    "            P1['duration'] * row['Uber'],\n",
    "            P1['duration'])\n",
    "    # Second, remove all morning weekday entries when Guillaume was working for IMAD, except for the specific dates below\n",
    "    dates_to_keep = [datetime.date(2020, 11, 26),\n",
    "                     *pd.date_range(datetime.date(2020, 12, 21), datetime.date(2020, 12, 25)).values,\n",
    "                     *pd.date_range(datetime.date(2021, 2, 1), datetime.date(2021, 2, 12)).values,\n",
    "                     *pd.date_range(datetime.date(2021, 8, 16), datetime.date(2021, 8, 28)).values,\n",
    "                     *pd.date_range(datetime.date(2021, 9, 20), datetime.date(2021, 10, 3)).values,\n",
    "                     *pd.date_range(datetime.date(2021, 11, 25), datetime.date(2021, 12, 12)).values,\n",
    "                     *pd.date_range(datetime.date(2022, 4, 25), datetime.date(2022, 5, 13)).values]\n",
    "    P1.drop(P1[(P1.time_of_day == 'AM') &\n",
    "               (P1.day_type == 'week day') &\n",
    "               ~P1.date.apply(lambda d: d.date()).isin(dates_to_keep)].index,\n",
    "            inplace=True)\n",
    "    return P1"
   ],
   "metadata": {
    "collapsed": false
   }
  },
  {
   "cell_type": "code",
   "execution_count": 25,
   "outputs": [],
   "source": [
    "def split_AM_PM(table: PeriodTable) -> PeriodTable:\n",
    "    \"\"\"\n",
    "    Splits intervals spanning many days or many morning/afternoon periods in two.\n",
    "    If the interval is associated to numerical values (like distance or money), these values are\n",
    "    transferred to the new intervals but are weighted according to the new intervals' duration.\n",
    "    :param table: the table whose intervals should be split\n",
    "    :return: a table with no intervals spanning over AM and PM\n",
    "    \"\"\"\n",
    "\n",
    "    def scaled_interval(begin: Timestamp, end: Timestamp, attributes: dict, og_duration) -> dict:\n",
    "        \"\"\"Creates an interval (a dict with begin, end and other attributes) given the original attributes and the original \"\"\"\n",
    "        return {'begin': begin, 'end': end,\n",
    "                **{k: v * (end - begin) / og_duration if isinstance(v, float) else v for k, v in attributes.items()}}\n",
    "\n",
    "    def rec(begin: Timestamp, end: Timestamp, **rest) -> list[dict]:\n",
    "        rows = []\n",
    "        og_duration = end - begin\n",
    "        # Check if the interval spans many days, and split into as many days as it spans\n",
    "        if begin.day != end.day:\n",
    "            rows.append(scaled_interval(begin, begin.replace(hour=23, minute=59, second=59), rest, og_duration))\n",
    "            for days in range(end.day - begin.day - 1):\n",
    "                mid = begin + datetime.timedelta(days=days)\n",
    "                rows.append(scaled_interval(mid.replace(hour=0, minute=0, second=0),\n",
    "                                            mid.replace(hour=23, minute=59, second=59), rest, og_duration))\n",
    "            rows.append(scaled_interval(end.replace(hour=0, minute=0, second=0), end, rest, og_duration))\n",
    "            # Call itself recursively to split resulting days into AM/PM\n",
    "            return [e for r in rows for e in rec(**r)]\n",
    "        # Check if the interval spans many AM/PM periods\n",
    "        elif begin.hour < 12 <= end.hour:\n",
    "            rows.append(scaled_interval(begin, end.replace(hour=11, minute=59, second=59), rest, og_duration))\n",
    "            rows.append(scaled_interval(end.replace(hour=12, minute=0, second=0), end, rest, og_duration))\n",
    "            return rows\n",
    "        else:\n",
    "            return [{'begin': begin, 'end': end, **rest}]\n",
    "\n",
    "    return pd.DataFrame([e for d in table.to_dict('records') for e in rec(**d)])"
   ],
   "metadata": {
    "collapsed": false
   }
  },
  {
   "cell_type": "code",
   "execution_count": 26,
   "outputs": [],
   "source": [
    "def find_week_limits(date: Timestamp) -> str:\n",
    "    week_start = date - datetime.timedelta(days=date.weekday())\n",
    "    week_end = week_start + datetime.timedelta(days=6)\n",
    "    return f'{week_start.date()} to {week_end.date()}'.replace('-', '/').replace('to', '-')"
   ],
   "metadata": {
    "collapsed": false
   }
  },
  {
   "cell_type": "markdown",
   "source": [
    "### Running the pipeline"
   ],
   "metadata": {
    "collapsed": false
   }
  },
  {
   "cell_type": "code",
   "execution_count": 27,
   "outputs": [],
   "source": [
    "def pipeline(\n",
    "        table: PeriodTable,\n",
    "        interval_logic: Optional[Callable[[PeriodTable], PeriodTable]] = None,\n",
    "        splitting_logic: Optional[Callable[[PeriodTable], PeriodTable]] = None,\n",
    "        filtering_logic: Optional[Callable[[PeriodTable], PeriodTable]] = None,\n",
    "        name: str = 'analysis',\n",
    "        facets: Tuple[str, ...] = ('duration', 'distance_km', 'uber_paid'),\n",
    "        save_at: Path = data_folder / 'results'\n",
    ") -> Tuple[pd.DataFrame, ...]:\n",
    "    # Apply interval logic if specified\n",
    "    if interval_logic is not None:\n",
    "        table = interval_logic(table)\n",
    "\n",
    "    # Make sure that each interval is contained within a single 12-hour time period (AM or PM) by splitting when necessary\n",
    "    # Note: this logic is specific to each driver\n",
    "    if splitting_logic is not None:\n",
    "        table = splitting_logic(table)\n",
    "\n",
    "    # Now we can compute all of these time properties since they will be the same for begin and end\n",
    "    table['date'] = table.end.dt.date\n",
    "    table['day_of_week'] = table.end.dt.day_name()\n",
    "    table['day_type'] = (table.end.dt.weekday < 5).replace({True: 'week day', False: 'weekend'})\n",
    "    table['time_of_day'] = (table.end.dt.hour < 12).replace({True: 'AM', False: 'PM'})\n",
    "    table['week'] = table.end.apply(find_week_limits)\n",
    "    table['month'] = table.end.apply(lambda d: f'{d.month:02d}. {d.month_name()}')\n",
    "    table['year'] = table.end.dt.year\n",
    "    table['duration'] = table.end - table.begin\n",
    "\n",
    "    # Group entries by day and time period\n",
    "    daily = table.groupby(['date', 'year', 'month', 'week', 'day_of_week',\n",
    "                           'day_type', 'time_of_day', 'status']).agg({f: 'sum' for f in facets}).reset_index()\n",
    "    daily['date'] = pd.to_datetime(daily.date)\n",
    "\n",
    "    # Filter the data if a filtering function is specified\n",
    "    if filtering_logic is not None:\n",
    "        filtered = filtering_logic(daily)\n",
    "        filtered['status'] = filtered.status + '|filtered'\n",
    "        daily = pd.concat([daily, filtered])\n",
    "\n",
    "    monthly = daily.groupby(['year', 'month', 'status']).agg({f: 'sum' for f in facets}).reset_index()\n",
    "    weekly = daily.groupby(['week', 'status']).agg({f: 'sum' for f in facets}).reset_index()\n",
    "    yearly = daily.groupby(['year', 'status']).agg({f: 'sum' for f in facets}).reset_index()\n",
    "    total = yearly.groupby(['status']).agg({f: 'sum' for f in facets}).reset_index()\n",
    "\n",
    "    # Writing tables to disk\n",
    "    save_at.mkdir(parents=True, exist_ok=True)\n",
    "    table.to_csv(save_at / f'{name}_original_splitted.csv', index=False)\n",
    "    daily.to_csv(save_at / f'{name}_daily.csv', index=False)\n",
    "    weekly.to_csv(save_at / f'{name}_weekly.csv', index=False)\n",
    "    monthly.to_csv(save_at / f'{name}_monthly.csv', index=False)\n",
    "    yearly.to_csv(save_at / f'{name}_yearly.csv', index=False)\n",
    "    total.to_csv(save_at / f'{name}_total.csv', index=False)\n",
    "\n",
    "    return daily, weekly, yearly, total"
   ],
   "metadata": {
    "collapsed": false
   }
  },
  {
   "cell_type": "markdown",
   "source": [
    "You can find SAR samples in the KDrive at:\n",
    "- old: `hestiaai /Common documents/HestiaLabs/PDIO- Data/Driver Data/Guillaume data/Lemoine Guillaume/Lemoine_SAR_06.08.2022.zip`.\n",
    "- new: `PersonalData.IO /Lemoine_12102022-20221110T164542Z-001.zip`"
   ],
   "metadata": {
    "collapsed": false
   }
  },
  {
   "cell_type": "code",
   "execution_count": 28,
   "outputs": [],
   "source": [
    "_ = pipeline(load_sar(data_folder / 'Guillaume' / 'raw' / 'SAR (new)'),\n",
    "             interval_logic=lambda t: merge_overlapping_intervals(t, {c: 'sum' for c in ['uber_paid', 'distance_km']}),\n",
    "             splitting_logic=split_AM_PM,\n",
    "             filtering_logic=guillaume_filtering_logic,\n",
    "             name='sar',\n",
    "             save_at=data_folder / 'Guillaume' / 'results')"
   ],
   "metadata": {
    "collapsed": false
   }
  },
  {
   "cell_type": "code",
   "execution_count": 29,
   "outputs": [],
   "source": [
    "_ = pipeline(load_sar(data_folder / 'Kidane' / 'raw' / 'SAR'),\n",
    "             interval_logic=lambda t: merge_overlapping_intervals(t, {c: 'sum' for c in ['uber_paid', 'distance_km']}),\n",
    "             name='sar',\n",
    "             save_at=data_folder / 'Kidane' / 'results')"
   ],
   "metadata": {
    "collapsed": false
   }
  },
  {
   "cell_type": "code",
   "execution_count": 30,
   "outputs": [],
   "source": [
    "_ = pipeline(load_sar(data_folder / 'Brice' / 'raw' / 'SAR'),\n",
    "             interval_logic=lambda t: merge_overlapping_intervals(t, {c: 'sum' for c in ['uber_paid', 'distance_km']}),\n",
    "             name='sar',\n",
    "             save_at=data_folder / 'Brice' / 'results')"
   ],
   "metadata": {
    "collapsed": false
   }
  },
  {
   "cell_type": "markdown",
   "source": [
    "A Portal sample can be found on our KDrive at `hestiaai /Common documents/HestiaLabs/PDIO- Data/Driver Data/Guillaume data/Lemoine Guillaume/202207/Uber Data F0699B53.zip`"
   ],
   "metadata": {
    "collapsed": false
   }
  },
  {
   "cell_type": "code",
   "execution_count": 31,
   "outputs": [],
   "source": [
    "_ = pipeline(load_portal(data_folder / 'Guillaume' / 'raw' / 'Portal' / 'Driver'),\n",
    "             name='portal',\n",
    "             splitting_logic=split_AM_PM,\n",
    "             filtering_logic=guillaume_filtering_logic,\n",
    "             save_at=data_folder / 'Guillaume' / 'results')"
   ],
   "metadata": {
    "collapsed": false
   }
  },
  {
   "cell_type": "code",
   "execution_count": 32,
   "outputs": [],
   "source": [
    "_ = pipeline(load_portal(data_folder / 'Aria' / 'raw' / 'Portal' / 'Driver'),\n",
    "             name='portal',\n",
    "             splitting_logic=split_AM_PM,\n",
    "             save_at=data_folder / 'Aria' / 'results')"
   ],
   "metadata": {
    "collapsed": false
   }
  },
  {
   "cell_type": "code",
   "execution_count": 32,
   "outputs": [],
   "source": [],
   "metadata": {
    "collapsed": false
   }
  }
 ],
 "metadata": {
  "kernelspec": {
   "display_name": "Python 3",
   "language": "python",
   "name": "python3"
  },
  "language_info": {
   "codemirror_mode": {
    "name": "ipython",
    "version": 2
   },
   "file_extension": ".py",
   "mimetype": "text/x-python",
   "name": "python",
   "nbconvert_exporter": "python",
   "pygments_lexer": "ipython2",
   "version": "2.7.6"
  }
 },
 "nbformat": 4,
 "nbformat_minor": 0
}
