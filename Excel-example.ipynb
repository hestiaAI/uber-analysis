{
 "cells": [
  {
   "cell_type": "code",
   "execution_count": 1,
   "id": "b0a933bd",
   "metadata": {
    "collapsed": false
   },
   "outputs": [
    {
     "name": "stdout",
     "output_type": "stream",
     "text": [
      "Requirement already satisfied: openpyxl in /home/lstreit/anaconda3/envs/hestia/lib/python3.11/site-packages (3.0.10)\r\n",
      "Requirement already satisfied: et-xmlfile in /home/lstreit/anaconda3/envs/hestia/lib/python3.11/site-packages (from openpyxl) (1.1.0)\r\n"
     ]
    }
   ],
   "source": [
    "! pip install openpyxl"
   ]
  },
  {
   "cell_type": "code",
   "execution_count": 2,
   "id": "5565f950",
   "metadata": {
    "collapsed": false
   },
   "outputs": [],
   "source": [
    "import pandas as pd\n",
    "from utils import save_to_excel"
   ]
  },
  {
   "cell_type": "code",
   "execution_count": 3,
   "id": "220fdacf",
   "metadata": {
    "collapsed": false
   },
   "outputs": [
    {
     "name": "stdout",
     "output_type": "stream",
     "text": [
      "saved  saved-from-excel-example.xlsx\n"
     ]
    }
   ],
   "source": [
    "sheets = {'sheet A': pd.DataFrame({'A': [1, 2, 3]}),\n",
    "          'sheet B': pd.DataFrame({'B': [21, 22, 23]})}\n",
    "save_to_excel('saved-from-excel-example.xlsx', sheets)"
   ]
  },
  {
   "cell_type": "code",
   "execution_count": 3,
   "outputs": [],
   "source": [],
   "metadata": {
    "collapsed": false
   }
  }
 ],
 "metadata": {
  "kernelspec": {
   "argv": [
    "python",
    "-m",
    "ipykernel_launcher",
    "-f",
    "{connection_file}"
   ],
   "display_name": "Python 3 (ipykernel)",
   "env": null,
   "interrupt_mode": "signal",
   "language": "python",
   "metadata": {
    "debugger": true
   },
   "name": "python3"
  },
  "name": "Excel-example.ipynb"
 },
 "nbformat": 4,
 "nbformat_minor": 5
}
